{
  "nbformat": 4,
  "nbformat_minor": 0,
  "metadata": {
    "colab": {
      "provenance": []
    },
    "kernelspec": {
      "name": "python3",
      "display_name": "Python 3"
    },
    "language_info": {
      "name": "python"
    }
  },
  "cells": [
    {
      "cell_type": "code",
      "execution_count": 1,
      "metadata": {
        "id": "t-nRgV_qsEpl"
      },
      "outputs": [],
      "source": [
        "import pandas as pd\n",
        "import numpy as np\n",
        "\n",
        "import matplotlib.pyplot as plt\n",
        "import seaborn as sns\n",
        "\n",
        "from sklearn.model_selection import train_test_split\n",
        "from sklearn.preprocessing import StandardScaler\n",
        "from sklearn.neural_network import MLPClassifier\n",
        "from sklearn.metrics import classification_report, confusion_matrix, accuracy_score\n",
        "from sklearn.metrics import roc_curve, roc_auc_score\n",
        "\n",
        "from sklearn.ensemble import RandomForestClassifier\n"
      ]
    },
    {
      "cell_type": "code",
      "source": [
        "dataset = pd.read_csv(\"Train_data.csv\")\n",
        "dataset.head()"
      ],
      "metadata": {
        "colab": {
          "base_uri": "https://localhost:8080/",
          "height": 299
        },
        "id": "zQcejgqHsJh2",
        "outputId": "1741f781-62a1-4d88-ad30-f541af3e3765"
      },
      "execution_count": 2,
      "outputs": [
        {
          "output_type": "execute_result",
          "data": {
            "text/plain": [
              "   duration protocol_type   service flag  src_bytes  dst_bytes  land  \\\n",
              "0         0           tcp  ftp_data   SF        491          0     0   \n",
              "1         0           udp     other   SF        146          0     0   \n",
              "2         0           tcp   private   S0          0          0     0   \n",
              "3         0           tcp      http   SF        232       8153     0   \n",
              "4         0           tcp      http   SF        199        420     0   \n",
              "\n",
              "   wrong_fragment  urgent  hot  ...  dst_host_srv_count  \\\n",
              "0               0       0    0  ...                  25   \n",
              "1               0       0    0  ...                   1   \n",
              "2               0       0    0  ...                  26   \n",
              "3               0       0    0  ...                 255   \n",
              "4               0       0    0  ...                 255   \n",
              "\n",
              "   dst_host_same_srv_rate  dst_host_diff_srv_rate  \\\n",
              "0                    0.17                    0.03   \n",
              "1                    0.00                    0.60   \n",
              "2                    0.10                    0.05   \n",
              "3                    1.00                    0.00   \n",
              "4                    1.00                    0.00   \n",
              "\n",
              "   dst_host_same_src_port_rate  dst_host_srv_diff_host_rate  \\\n",
              "0                         0.17                         0.00   \n",
              "1                         0.88                         0.00   \n",
              "2                         0.00                         0.00   \n",
              "3                         0.03                         0.04   \n",
              "4                         0.00                         0.00   \n",
              "\n",
              "   dst_host_serror_rate  dst_host_srv_serror_rate  dst_host_rerror_rate  \\\n",
              "0                  0.00                      0.00                  0.05   \n",
              "1                  0.00                      0.00                  0.00   \n",
              "2                  1.00                      1.00                  0.00   \n",
              "3                  0.03                      0.01                  0.00   \n",
              "4                  0.00                      0.00                  0.00   \n",
              "\n",
              "   dst_host_srv_rerror_rate    class  \n",
              "0                      0.00   normal  \n",
              "1                      0.00   normal  \n",
              "2                      0.00  anomaly  \n",
              "3                      0.01   normal  \n",
              "4                      0.00   normal  \n",
              "\n",
              "[5 rows x 42 columns]"
            ],
            "text/html": [
              "\n",
              "  <div id=\"df-2c349362-1854-4e76-8596-da86a032a15b\">\n",
              "    <div class=\"colab-df-container\">\n",
              "      <div>\n",
              "<style scoped>\n",
              "    .dataframe tbody tr th:only-of-type {\n",
              "        vertical-align: middle;\n",
              "    }\n",
              "\n",
              "    .dataframe tbody tr th {\n",
              "        vertical-align: top;\n",
              "    }\n",
              "\n",
              "    .dataframe thead th {\n",
              "        text-align: right;\n",
              "    }\n",
              "</style>\n",
              "<table border=\"1\" class=\"dataframe\">\n",
              "  <thead>\n",
              "    <tr style=\"text-align: right;\">\n",
              "      <th></th>\n",
              "      <th>duration</th>\n",
              "      <th>protocol_type</th>\n",
              "      <th>service</th>\n",
              "      <th>flag</th>\n",
              "      <th>src_bytes</th>\n",
              "      <th>dst_bytes</th>\n",
              "      <th>land</th>\n",
              "      <th>wrong_fragment</th>\n",
              "      <th>urgent</th>\n",
              "      <th>hot</th>\n",
              "      <th>...</th>\n",
              "      <th>dst_host_srv_count</th>\n",
              "      <th>dst_host_same_srv_rate</th>\n",
              "      <th>dst_host_diff_srv_rate</th>\n",
              "      <th>dst_host_same_src_port_rate</th>\n",
              "      <th>dst_host_srv_diff_host_rate</th>\n",
              "      <th>dst_host_serror_rate</th>\n",
              "      <th>dst_host_srv_serror_rate</th>\n",
              "      <th>dst_host_rerror_rate</th>\n",
              "      <th>dst_host_srv_rerror_rate</th>\n",
              "      <th>class</th>\n",
              "    </tr>\n",
              "  </thead>\n",
              "  <tbody>\n",
              "    <tr>\n",
              "      <th>0</th>\n",
              "      <td>0</td>\n",
              "      <td>tcp</td>\n",
              "      <td>ftp_data</td>\n",
              "      <td>SF</td>\n",
              "      <td>491</td>\n",
              "      <td>0</td>\n",
              "      <td>0</td>\n",
              "      <td>0</td>\n",
              "      <td>0</td>\n",
              "      <td>0</td>\n",
              "      <td>...</td>\n",
              "      <td>25</td>\n",
              "      <td>0.17</td>\n",
              "      <td>0.03</td>\n",
              "      <td>0.17</td>\n",
              "      <td>0.00</td>\n",
              "      <td>0.00</td>\n",
              "      <td>0.00</td>\n",
              "      <td>0.05</td>\n",
              "      <td>0.00</td>\n",
              "      <td>normal</td>\n",
              "    </tr>\n",
              "    <tr>\n",
              "      <th>1</th>\n",
              "      <td>0</td>\n",
              "      <td>udp</td>\n",
              "      <td>other</td>\n",
              "      <td>SF</td>\n",
              "      <td>146</td>\n",
              "      <td>0</td>\n",
              "      <td>0</td>\n",
              "      <td>0</td>\n",
              "      <td>0</td>\n",
              "      <td>0</td>\n",
              "      <td>...</td>\n",
              "      <td>1</td>\n",
              "      <td>0.00</td>\n",
              "      <td>0.60</td>\n",
              "      <td>0.88</td>\n",
              "      <td>0.00</td>\n",
              "      <td>0.00</td>\n",
              "      <td>0.00</td>\n",
              "      <td>0.00</td>\n",
              "      <td>0.00</td>\n",
              "      <td>normal</td>\n",
              "    </tr>\n",
              "    <tr>\n",
              "      <th>2</th>\n",
              "      <td>0</td>\n",
              "      <td>tcp</td>\n",
              "      <td>private</td>\n",
              "      <td>S0</td>\n",
              "      <td>0</td>\n",
              "      <td>0</td>\n",
              "      <td>0</td>\n",
              "      <td>0</td>\n",
              "      <td>0</td>\n",
              "      <td>0</td>\n",
              "      <td>...</td>\n",
              "      <td>26</td>\n",
              "      <td>0.10</td>\n",
              "      <td>0.05</td>\n",
              "      <td>0.00</td>\n",
              "      <td>0.00</td>\n",
              "      <td>1.00</td>\n",
              "      <td>1.00</td>\n",
              "      <td>0.00</td>\n",
              "      <td>0.00</td>\n",
              "      <td>anomaly</td>\n",
              "    </tr>\n",
              "    <tr>\n",
              "      <th>3</th>\n",
              "      <td>0</td>\n",
              "      <td>tcp</td>\n",
              "      <td>http</td>\n",
              "      <td>SF</td>\n",
              "      <td>232</td>\n",
              "      <td>8153</td>\n",
              "      <td>0</td>\n",
              "      <td>0</td>\n",
              "      <td>0</td>\n",
              "      <td>0</td>\n",
              "      <td>...</td>\n",
              "      <td>255</td>\n",
              "      <td>1.00</td>\n",
              "      <td>0.00</td>\n",
              "      <td>0.03</td>\n",
              "      <td>0.04</td>\n",
              "      <td>0.03</td>\n",
              "      <td>0.01</td>\n",
              "      <td>0.00</td>\n",
              "      <td>0.01</td>\n",
              "      <td>normal</td>\n",
              "    </tr>\n",
              "    <tr>\n",
              "      <th>4</th>\n",
              "      <td>0</td>\n",
              "      <td>tcp</td>\n",
              "      <td>http</td>\n",
              "      <td>SF</td>\n",
              "      <td>199</td>\n",
              "      <td>420</td>\n",
              "      <td>0</td>\n",
              "      <td>0</td>\n",
              "      <td>0</td>\n",
              "      <td>0</td>\n",
              "      <td>...</td>\n",
              "      <td>255</td>\n",
              "      <td>1.00</td>\n",
              "      <td>0.00</td>\n",
              "      <td>0.00</td>\n",
              "      <td>0.00</td>\n",
              "      <td>0.00</td>\n",
              "      <td>0.00</td>\n",
              "      <td>0.00</td>\n",
              "      <td>0.00</td>\n",
              "      <td>normal</td>\n",
              "    </tr>\n",
              "  </tbody>\n",
              "</table>\n",
              "<p>5 rows × 42 columns</p>\n",
              "</div>\n",
              "      <button class=\"colab-df-convert\" onclick=\"convertToInteractive('df-2c349362-1854-4e76-8596-da86a032a15b')\"\n",
              "              title=\"Convert this dataframe to an interactive table.\"\n",
              "              style=\"display:none;\">\n",
              "        \n",
              "  <svg xmlns=\"http://www.w3.org/2000/svg\" height=\"24px\"viewBox=\"0 0 24 24\"\n",
              "       width=\"24px\">\n",
              "    <path d=\"M0 0h24v24H0V0z\" fill=\"none\"/>\n",
              "    <path d=\"M18.56 5.44l.94 2.06.94-2.06 2.06-.94-2.06-.94-.94-2.06-.94 2.06-2.06.94zm-11 1L8.5 8.5l.94-2.06 2.06-.94-2.06-.94L8.5 2.5l-.94 2.06-2.06.94zm10 10l.94 2.06.94-2.06 2.06-.94-2.06-.94-.94-2.06-.94 2.06-2.06.94z\"/><path d=\"M17.41 7.96l-1.37-1.37c-.4-.4-.92-.59-1.43-.59-.52 0-1.04.2-1.43.59L10.3 9.45l-7.72 7.72c-.78.78-.78 2.05 0 2.83L4 21.41c.39.39.9.59 1.41.59.51 0 1.02-.2 1.41-.59l7.78-7.78 2.81-2.81c.8-.78.8-2.07 0-2.86zM5.41 20L4 18.59l7.72-7.72 1.47 1.35L5.41 20z\"/>\n",
              "  </svg>\n",
              "      </button>\n",
              "      \n",
              "  <style>\n",
              "    .colab-df-container {\n",
              "      display:flex;\n",
              "      flex-wrap:wrap;\n",
              "      gap: 12px;\n",
              "    }\n",
              "\n",
              "    .colab-df-convert {\n",
              "      background-color: #E8F0FE;\n",
              "      border: none;\n",
              "      border-radius: 50%;\n",
              "      cursor: pointer;\n",
              "      display: none;\n",
              "      fill: #1967D2;\n",
              "      height: 32px;\n",
              "      padding: 0 0 0 0;\n",
              "      width: 32px;\n",
              "    }\n",
              "\n",
              "    .colab-df-convert:hover {\n",
              "      background-color: #E2EBFA;\n",
              "      box-shadow: 0px 1px 2px rgba(60, 64, 67, 0.3), 0px 1px 3px 1px rgba(60, 64, 67, 0.15);\n",
              "      fill: #174EA6;\n",
              "    }\n",
              "\n",
              "    [theme=dark] .colab-df-convert {\n",
              "      background-color: #3B4455;\n",
              "      fill: #D2E3FC;\n",
              "    }\n",
              "\n",
              "    [theme=dark] .colab-df-convert:hover {\n",
              "      background-color: #434B5C;\n",
              "      box-shadow: 0px 1px 3px 1px rgba(0, 0, 0, 0.15);\n",
              "      filter: drop-shadow(0px 1px 2px rgba(0, 0, 0, 0.3));\n",
              "      fill: #FFFFFF;\n",
              "    }\n",
              "  </style>\n",
              "\n",
              "      <script>\n",
              "        const buttonEl =\n",
              "          document.querySelector('#df-2c349362-1854-4e76-8596-da86a032a15b button.colab-df-convert');\n",
              "        buttonEl.style.display =\n",
              "          google.colab.kernel.accessAllowed ? 'block' : 'none';\n",
              "\n",
              "        async function convertToInteractive(key) {\n",
              "          const element = document.querySelector('#df-2c349362-1854-4e76-8596-da86a032a15b');\n",
              "          const dataTable =\n",
              "            await google.colab.kernel.invokeFunction('convertToInteractive',\n",
              "                                                     [key], {});\n",
              "          if (!dataTable) return;\n",
              "\n",
              "          const docLinkHtml = 'Like what you see? Visit the ' +\n",
              "            '<a target=\"_blank\" href=https://colab.research.google.com/notebooks/data_table.ipynb>data table notebook</a>'\n",
              "            + ' to learn more about interactive tables.';\n",
              "          element.innerHTML = '';\n",
              "          dataTable['output_type'] = 'display_data';\n",
              "          await google.colab.output.renderOutput(dataTable, element);\n",
              "          const docLink = document.createElement('div');\n",
              "          docLink.innerHTML = docLinkHtml;\n",
              "          element.appendChild(docLink);\n",
              "        }\n",
              "      </script>\n",
              "    </div>\n",
              "  </div>\n",
              "  "
            ]
          },
          "metadata": {},
          "execution_count": 2
        }
      ]
    },
    {
      "cell_type": "code",
      "source": [
        "dataset.shape"
      ],
      "metadata": {
        "colab": {
          "base_uri": "https://localhost:8080/"
        },
        "id": "2Dk1SKwRs5KK",
        "outputId": "b0e3e34a-212f-40fd-9a26-33b8379bdd8b"
      },
      "execution_count": 3,
      "outputs": [
        {
          "output_type": "execute_result",
          "data": {
            "text/plain": [
              "(25192, 42)"
            ]
          },
          "metadata": {},
          "execution_count": 3
        }
      ]
    },
    {
      "cell_type": "code",
      "source": [
        "dataset.dtypes"
      ],
      "metadata": {
        "colab": {
          "base_uri": "https://localhost:8080/"
        },
        "id": "RM4_Qh5Qs4fV",
        "outputId": "61663ec6-1bd3-4338-d376-68923b051b3e"
      },
      "execution_count": 4,
      "outputs": [
        {
          "output_type": "execute_result",
          "data": {
            "text/plain": [
              "duration                         int64\n",
              "protocol_type                   object\n",
              "service                         object\n",
              "flag                            object\n",
              "src_bytes                        int64\n",
              "dst_bytes                        int64\n",
              "land                             int64\n",
              "wrong_fragment                   int64\n",
              "urgent                           int64\n",
              "hot                              int64\n",
              "num_failed_logins                int64\n",
              "logged_in                        int64\n",
              "num_compromised                  int64\n",
              "root_shell                       int64\n",
              "su_attempted                     int64\n",
              "num_root                         int64\n",
              "num_file_creations               int64\n",
              "num_shells                       int64\n",
              "num_access_files                 int64\n",
              "num_outbound_cmds                int64\n",
              "is_host_login                    int64\n",
              "is_guest_login                   int64\n",
              "count                            int64\n",
              "srv_count                        int64\n",
              "serror_rate                    float64\n",
              "srv_serror_rate                float64\n",
              "rerror_rate                    float64\n",
              "srv_rerror_rate                float64\n",
              "same_srv_rate                  float64\n",
              "diff_srv_rate                  float64\n",
              "srv_diff_host_rate             float64\n",
              "dst_host_count                   int64\n",
              "dst_host_srv_count               int64\n",
              "dst_host_same_srv_rate         float64\n",
              "dst_host_diff_srv_rate         float64\n",
              "dst_host_same_src_port_rate    float64\n",
              "dst_host_srv_diff_host_rate    float64\n",
              "dst_host_serror_rate           float64\n",
              "dst_host_srv_serror_rate       float64\n",
              "dst_host_rerror_rate           float64\n",
              "dst_host_srv_rerror_rate       float64\n",
              "class                           object\n",
              "dtype: object"
            ]
          },
          "metadata": {},
          "execution_count": 4
        }
      ]
    },
    {
      "cell_type": "code",
      "source": [
        "# Encode categorical features\n",
        "dataset = pd.get_dummies(dataset, columns=['protocol_type', 'service', 'flag'])"
      ],
      "metadata": {
        "id": "QN3NBUVwst40"
      },
      "execution_count": 5,
      "outputs": []
    },
    {
      "cell_type": "code",
      "source": [
        "# Split the dataset into features (X) and target labels (y)\n",
        "X = dataset.drop('class', axis=1)\n",
        "y = dataset['class']"
      ],
      "metadata": {
        "id": "Sl_c2iAEsvt0"
      },
      "execution_count": 6,
      "outputs": []
    },
    {
      "cell_type": "code",
      "source": [
        "# Split the dataset into training and testing sets (70% training, 30% testing)\n",
        "X_train, X_test, y_train, y_test = train_test_split(X, y, test_size=0.3, random_state=42)"
      ],
      "metadata": {
        "id": "rY6vrsWSsxWc"
      },
      "execution_count": 7,
      "outputs": []
    },
    {
      "cell_type": "markdown",
      "source": [
        "# Finding traffic patterns"
      ],
      "metadata": {
        "id": "yS9LRfqnxH0E"
      }
    },
    {
      "cell_type": "code",
      "source": [
        "# Find correlation between features\n",
        "correlation = X_train.corr()\n",
        "\n",
        "# Create a mask to ignore self-correlation\n",
        "mask = np.triu(np.ones_like(correlation, dtype=bool))\n",
        "\n",
        "# Apply the mask to the correlation matrix\n",
        "masked_correlation = correlation.mask(mask)\n",
        "\n",
        "# Find pairs of features that have a correlation greater than 0.7 or less than -0.7\n",
        "highly_correlated = [(column, row) for column in masked_correlation.columns for row in masked_correlation.index if abs(masked_correlation[column][row]) > 0.7]\n",
        "\n",
        "# Print the highly correlated pairs\n",
        "for pair in highly_correlated:\n",
        "    print(pair)"
      ],
      "metadata": {
        "colab": {
          "base_uri": "https://localhost:8080/"
        },
        "id": "TscBALxQxGT-",
        "outputId": "e10b7653-cb6b-4436-a8c6-b790434a7cae"
      },
      "execution_count": 8,
      "outputs": [
        {
          "output_type": "stream",
          "name": "stdout",
          "text": [
            "('hot', 'is_guest_login')\n",
            "('hot', 'service_ftp')\n",
            "('num_compromised', 'su_attempted')\n",
            "('num_compromised', 'num_root')\n",
            "('num_compromised', 'num_access_files')\n",
            "('su_attempted', 'num_root')\n",
            "('num_root', 'num_access_files')\n",
            "('is_guest_login', 'service_ftp')\n",
            "('serror_rate', 'srv_serror_rate')\n",
            "('serror_rate', 'same_srv_rate')\n",
            "('serror_rate', 'dst_host_serror_rate')\n",
            "('serror_rate', 'dst_host_srv_serror_rate')\n",
            "('serror_rate', 'flag_S0')\n",
            "('serror_rate', 'flag_SF')\n",
            "('srv_serror_rate', 'same_srv_rate')\n",
            "('srv_serror_rate', 'dst_host_serror_rate')\n",
            "('srv_serror_rate', 'dst_host_srv_serror_rate')\n",
            "('srv_serror_rate', 'flag_S0')\n",
            "('srv_serror_rate', 'flag_SF')\n",
            "('rerror_rate', 'srv_rerror_rate')\n",
            "('rerror_rate', 'dst_host_rerror_rate')\n",
            "('rerror_rate', 'dst_host_srv_rerror_rate')\n",
            "('rerror_rate', 'flag_REJ')\n",
            "('srv_rerror_rate', 'dst_host_rerror_rate')\n",
            "('srv_rerror_rate', 'dst_host_srv_rerror_rate')\n",
            "('srv_rerror_rate', 'flag_REJ')\n",
            "('same_srv_rate', 'dst_host_srv_count')\n",
            "('same_srv_rate', 'dst_host_same_srv_rate')\n",
            "('same_srv_rate', 'dst_host_serror_rate')\n",
            "('same_srv_rate', 'dst_host_srv_serror_rate')\n",
            "('same_srv_rate', 'flag_S0')\n",
            "('same_srv_rate', 'flag_SF')\n",
            "('dst_host_srv_count', 'dst_host_same_srv_rate')\n",
            "('dst_host_srv_count', 'service_http')\n",
            "('dst_host_same_srv_rate', 'flag_SF')\n",
            "('dst_host_serror_rate', 'dst_host_srv_serror_rate')\n",
            "('dst_host_serror_rate', 'flag_S0')\n",
            "('dst_host_serror_rate', 'flag_SF')\n",
            "('dst_host_srv_serror_rate', 'flag_S0')\n",
            "('dst_host_srv_serror_rate', 'flag_SF')\n",
            "('dst_host_rerror_rate', 'dst_host_srv_rerror_rate')\n",
            "('dst_host_rerror_rate', 'flag_REJ')\n",
            "('dst_host_srv_rerror_rate', 'flag_REJ')\n",
            "('protocol_type_icmp', 'service_eco_i')\n",
            "('protocol_type_tcp', 'protocol_type_udp')\n",
            "('protocol_type_udp', 'service_domain_u')\n",
            "('flag_S0', 'flag_SF')\n"
          ]
        }
      ]
    },
    {
      "cell_type": "code",
      "source": [
        "# Scale the features\n",
        "scaler = StandardScaler()\n",
        "X_train = scaler.fit_transform(X_train)\n",
        "X_test = scaler.transform(X_test)"
      ],
      "metadata": {
        "id": "MaML15lJs0kq"
      },
      "execution_count": 9,
      "outputs": []
    },
    {
      "cell_type": "markdown",
      "source": [
        "# Finding the most important features"
      ],
      "metadata": {
        "id": "8uNBMHAPvk_E"
      }
    },
    {
      "cell_type": "code",
      "source": [
        "# Train a random forest classifier\n",
        "clf = RandomForestClassifier()\n",
        "clf.fit(X_train, y_train)"
      ],
      "metadata": {
        "colab": {
          "base_uri": "https://localhost:8080/",
          "height": 74
        },
        "id": "-SyA2U0mvkUS",
        "outputId": "d3184709-9b87-456d-abde-bbfb4575d6a0"
      },
      "execution_count": 10,
      "outputs": [
        {
          "output_type": "execute_result",
          "data": {
            "text/plain": [
              "RandomForestClassifier()"
            ],
            "text/html": [
              "<style>#sk-container-id-1 {color: black;background-color: white;}#sk-container-id-1 pre{padding: 0;}#sk-container-id-1 div.sk-toggleable {background-color: white;}#sk-container-id-1 label.sk-toggleable__label {cursor: pointer;display: block;width: 100%;margin-bottom: 0;padding: 0.3em;box-sizing: border-box;text-align: center;}#sk-container-id-1 label.sk-toggleable__label-arrow:before {content: \"▸\";float: left;margin-right: 0.25em;color: #696969;}#sk-container-id-1 label.sk-toggleable__label-arrow:hover:before {color: black;}#sk-container-id-1 div.sk-estimator:hover label.sk-toggleable__label-arrow:before {color: black;}#sk-container-id-1 div.sk-toggleable__content {max-height: 0;max-width: 0;overflow: hidden;text-align: left;background-color: #f0f8ff;}#sk-container-id-1 div.sk-toggleable__content pre {margin: 0.2em;color: black;border-radius: 0.25em;background-color: #f0f8ff;}#sk-container-id-1 input.sk-toggleable__control:checked~div.sk-toggleable__content {max-height: 200px;max-width: 100%;overflow: auto;}#sk-container-id-1 input.sk-toggleable__control:checked~label.sk-toggleable__label-arrow:before {content: \"▾\";}#sk-container-id-1 div.sk-estimator input.sk-toggleable__control:checked~label.sk-toggleable__label {background-color: #d4ebff;}#sk-container-id-1 div.sk-label input.sk-toggleable__control:checked~label.sk-toggleable__label {background-color: #d4ebff;}#sk-container-id-1 input.sk-hidden--visually {border: 0;clip: rect(1px 1px 1px 1px);clip: rect(1px, 1px, 1px, 1px);height: 1px;margin: -1px;overflow: hidden;padding: 0;position: absolute;width: 1px;}#sk-container-id-1 div.sk-estimator {font-family: monospace;background-color: #f0f8ff;border: 1px dotted black;border-radius: 0.25em;box-sizing: border-box;margin-bottom: 0.5em;}#sk-container-id-1 div.sk-estimator:hover {background-color: #d4ebff;}#sk-container-id-1 div.sk-parallel-item::after {content: \"\";width: 100%;border-bottom: 1px solid gray;flex-grow: 1;}#sk-container-id-1 div.sk-label:hover label.sk-toggleable__label {background-color: #d4ebff;}#sk-container-id-1 div.sk-serial::before {content: \"\";position: absolute;border-left: 1px solid gray;box-sizing: border-box;top: 0;bottom: 0;left: 50%;z-index: 0;}#sk-container-id-1 div.sk-serial {display: flex;flex-direction: column;align-items: center;background-color: white;padding-right: 0.2em;padding-left: 0.2em;position: relative;}#sk-container-id-1 div.sk-item {position: relative;z-index: 1;}#sk-container-id-1 div.sk-parallel {display: flex;align-items: stretch;justify-content: center;background-color: white;position: relative;}#sk-container-id-1 div.sk-item::before, #sk-container-id-1 div.sk-parallel-item::before {content: \"\";position: absolute;border-left: 1px solid gray;box-sizing: border-box;top: 0;bottom: 0;left: 50%;z-index: -1;}#sk-container-id-1 div.sk-parallel-item {display: flex;flex-direction: column;z-index: 1;position: relative;background-color: white;}#sk-container-id-1 div.sk-parallel-item:first-child::after {align-self: flex-end;width: 50%;}#sk-container-id-1 div.sk-parallel-item:last-child::after {align-self: flex-start;width: 50%;}#sk-container-id-1 div.sk-parallel-item:only-child::after {width: 0;}#sk-container-id-1 div.sk-dashed-wrapped {border: 1px dashed gray;margin: 0 0.4em 0.5em 0.4em;box-sizing: border-box;padding-bottom: 0.4em;background-color: white;}#sk-container-id-1 div.sk-label label {font-family: monospace;font-weight: bold;display: inline-block;line-height: 1.2em;}#sk-container-id-1 div.sk-label-container {text-align: center;}#sk-container-id-1 div.sk-container {/* jupyter's `normalize.less` sets `[hidden] { display: none; }` but bootstrap.min.css set `[hidden] { display: none !important; }` so we also need the `!important` here to be able to override the default hidden behavior on the sphinx rendered scikit-learn.org. See: https://github.com/scikit-learn/scikit-learn/issues/21755 */display: inline-block !important;position: relative;}#sk-container-id-1 div.sk-text-repr-fallback {display: none;}</style><div id=\"sk-container-id-1\" class=\"sk-top-container\"><div class=\"sk-text-repr-fallback\"><pre>RandomForestClassifier()</pre><b>In a Jupyter environment, please rerun this cell to show the HTML representation or trust the notebook. <br />On GitHub, the HTML representation is unable to render, please try loading this page with nbviewer.org.</b></div><div class=\"sk-container\" hidden><div class=\"sk-item\"><div class=\"sk-estimator sk-toggleable\"><input class=\"sk-toggleable__control sk-hidden--visually\" id=\"sk-estimator-id-1\" type=\"checkbox\" checked><label for=\"sk-estimator-id-1\" class=\"sk-toggleable__label sk-toggleable__label-arrow\">RandomForestClassifier</label><div class=\"sk-toggleable__content\"><pre>RandomForestClassifier()</pre></div></div></div></div></div>"
            ]
          },
          "metadata": {},
          "execution_count": 10
        }
      ]
    },
    {
      "cell_type": "code",
      "source": [
        "# Get feature importances\n",
        "importances = clf.feature_importances_\n",
        "\n",
        "# Create a DataFrame to display feature importances\n",
        "feature_importances = pd.DataFrame({'Feature': X.columns, 'Importance': importances})\n",
        "\n",
        "# Sort by importance\n",
        "feature_importances.sort_values(by='Importance', ascending=False, inplace=True)\n",
        "\n",
        "# Display the feature importances\n",
        "print(feature_importances)"
      ],
      "metadata": {
        "colab": {
          "base_uri": "https://localhost:8080/"
        },
        "id": "edNKnvMevpDa",
        "outputId": "71a88ce5-3df1-49f5-8ab7-878badfd21ca"
      },
      "execution_count": 11,
      "outputs": [
        {
          "output_type": "stream",
          "name": "stdout",
          "text": [
            "                Feature    Importance\n",
            "1             src_bytes  1.069544e-01\n",
            "2             dst_bytes  1.023812e-01\n",
            "116             flag_SF  5.951545e-02\n",
            "29   dst_host_srv_count  5.727734e-02\n",
            "25        same_srv_rate  5.474263e-02\n",
            "..                  ...           ...\n",
            "71         service_link  7.163491e-11\n",
            "65    service_http_8001  0.000000e+00\n",
            "105       service_vmnet  0.000000e+00\n",
            "17        is_host_login  0.000000e+00\n",
            "16    num_outbound_cmds  0.000000e+00\n",
            "\n",
            "[118 rows x 2 columns]\n"
          ]
        }
      ]
    },
    {
      "cell_type": "code",
      "source": [
        "# Select top 10 features\n",
        "top_10_features = feature_importances.head(10)\n",
        "\n",
        "# Plot the feature importances\n",
        "plt.figure(figsize=(10, 8))\n",
        "sns.barplot(x='Importance', y='Feature', data=top_10_features, color='b')\n",
        "plt.title('Top 10 Important Features')\n",
        "plt.xlabel('Importance')\n",
        "plt.ylabel('Feature')\n",
        "plt.show()\n"
      ],
      "metadata": {
        "colab": {
          "base_uri": "https://localhost:8080/",
          "height": 718
        },
        "id": "yvuNbYZCv048",
        "outputId": "53a17829-0d79-4f80-8036-6e9efc989895"
      },
      "execution_count": 12,
      "outputs": [
        {
          "output_type": "display_data",
          "data": {
            "text/plain": [
              "<Figure size 1000x800 with 1 Axes>"
            ],
            "image/png": "[encoded data removed]"
          },
          "metadata": {}
        }
      ]
    },
    {
      "cell_type": "markdown",
      "source": [
        "# Implementing MLP classifier in Python"
      ],
      "metadata": {
        "id": "-vB6_WKvvqE5"
      }
    },
    {
      "cell_type": "code",
      "source": [
        "# Create the MLP classifier\n",
        "mlp = MLPClassifier(hidden_layer_sizes=(70, 100), max_iter=1000, random_state=42)\n",
        "\n",
        "# Train the MLP classifier\n",
        "mlp.fit(X_train, y_train)"
      ],
      "metadata": {
        "colab": {
          "base_uri": "https://localhost:8080/",
          "height": 74
        },
        "id": "3YxFnIGZtBbx",
        "outputId": "b65d2b3c-a9bf-495a-bcca-6aeff7816f19"
      },
      "execution_count": 13,
      "outputs": [
        {
          "output_type": "execute_result",
          "data": {
            "text/plain": [
              "MLPClassifier(hidden_layer_sizes=(70, 100), max_iter=1000, random_state=42)"
            ],
            "text/html": [
              "<style>#sk-container-id-2 {color: black;background-color: white;}#sk-container-id-2 pre{padding: 0;}#sk-container-id-2 div.sk-toggleable {background-color: white;}#sk-container-id-2 label.sk-toggleable__label {cursor: pointer;display: block;width: 100%;margin-bottom: 0;padding: 0.3em;box-sizing: border-box;text-align: center;}#sk-container-id-2 label.sk-toggleable__label-arrow:before {content: \"▸\";float: left;margin-right: 0.25em;color: #696969;}#sk-container-id-2 label.sk-toggleable__label-arrow:hover:before {color: black;}#sk-container-id-2 div.sk-estimator:hover label.sk-toggleable__label-arrow:before {color: black;}#sk-container-id-2 div.sk-toggleable__content {max-height: 0;max-width: 0;overflow: hidden;text-align: left;background-color: #f0f8ff;}#sk-container-id-2 div.sk-toggleable__content pre {margin: 0.2em;color: black;border-radius: 0.25em;background-color: #f0f8ff;}#sk-container-id-2 input.sk-toggleable__control:checked~div.sk-toggleable__content {max-height: 200px;max-width: 100%;overflow: auto;}#sk-container-id-2 input.sk-toggleable__control:checked~label.sk-toggleable__label-arrow:before {content: \"▾\";}#sk-container-id-2 div.sk-estimator input.sk-toggleable__control:checked~label.sk-toggleable__label {background-color: #d4ebff;}#sk-container-id-2 div.sk-label input.sk-toggleable__control:checked~label.sk-toggleable__label {background-color: #d4ebff;}#sk-container-id-2 input.sk-hidden--visually {border: 0;clip: rect(1px 1px 1px 1px);clip: rect(1px, 1px, 1px, 1px);height: 1px;margin: -1px;overflow: hidden;padding: 0;position: absolute;width: 1px;}#sk-container-id-2 div.sk-estimator {font-family: monospace;background-color: #f0f8ff;border: 1px dotted black;border-radius: 0.25em;box-sizing: border-box;margin-bottom: 0.5em;}#sk-container-id-2 div.sk-estimator:hover {background-color: #d4ebff;}#sk-container-id-2 div.sk-parallel-item::after {content: \"\";width: 100%;border-bottom: 1px solid gray;flex-grow: 1;}#sk-container-id-2 div.sk-label:hover label.sk-toggleable__label {background-color: #d4ebff;}#sk-container-id-2 div.sk-serial::before {content: \"\";position: absolute;border-left: 1px solid gray;box-sizing: border-box;top: 0;bottom: 0;left: 50%;z-index: 0;}#sk-container-id-2 div.sk-serial {display: flex;flex-direction: column;align-items: center;background-color: white;padding-right: 0.2em;padding-left: 0.2em;position: relative;}#sk-container-id-2 div.sk-item {position: relative;z-index: 1;}#sk-container-id-2 div.sk-parallel {display: flex;align-items: stretch;justify-content: center;background-color: white;position: relative;}#sk-container-id-2 div.sk-item::before, #sk-container-id-2 div.sk-parallel-item::before {content: \"\";position: absolute;border-left: 1px solid gray;box-sizing: border-box;top: 0;bottom: 0;left: 50%;z-index: -1;}#sk-container-id-2 div.sk-parallel-item {display: flex;flex-direction: column;z-index: 1;position: relative;background-color: white;}#sk-container-id-2 div.sk-parallel-item:first-child::after {align-self: flex-end;width: 50%;}#sk-container-id-2 div.sk-parallel-item:last-child::after {align-self: flex-start;width: 50%;}#sk-container-id-2 div.sk-parallel-item:only-child::after {width: 0;}#sk-container-id-2 div.sk-dashed-wrapped {border: 1px dashed gray;margin: 0 0.4em 0.5em 0.4em;box-sizing: border-box;padding-bottom: 0.4em;background-color: white;}#sk-container-id-2 div.sk-label label {font-family: monospace;font-weight: bold;display: inline-block;line-height: 1.2em;}#sk-container-id-2 div.sk-label-container {text-align: center;}#sk-container-id-2 div.sk-container {/* jupyter's `normalize.less` sets `[hidden] { display: none; }` but bootstrap.min.css set `[hidden] { display: none !important; }` so we also need the `!important` here to be able to override the default hidden behavior on the sphinx rendered scikit-learn.org. See: https://github.com/scikit-learn/scikit-learn/issues/21755 */display: inline-block !important;position: relative;}#sk-container-id-2 div.sk-text-repr-fallback {display: none;}</style><div id=\"sk-container-id-2\" class=\"sk-top-container\"><div class=\"sk-text-repr-fallback\"><pre>MLPClassifier(hidden_layer_sizes=(70, 100), max_iter=1000, random_state=42)</pre><b>In a Jupyter environment, please rerun this cell to show the HTML representation or trust the notebook. <br />On GitHub, the HTML representation is unable to render, please try loading this page with nbviewer.org.</b></div><div class=\"sk-container\" hidden><div class=\"sk-item\"><div class=\"sk-estimator sk-toggleable\"><input class=\"sk-toggleable__control sk-hidden--visually\" id=\"sk-estimator-id-2\" type=\"checkbox\" checked><label for=\"sk-estimator-id-2\" class=\"sk-toggleable__label sk-toggleable__label-arrow\">MLPClassifier</label><div class=\"sk-toggleable__content\"><pre>MLPClassifier(hidden_layer_sizes=(70, 100), max_iter=1000, random_state=42)</pre></div></div></div></div></div>"
            ]
          },
          "metadata": {},
          "execution_count": 13
        }
      ]
    },
    {
      "cell_type": "code",
      "source": [
        "# Make predictions\n",
        "y_pred = mlp.predict(X_test)"
      ],
      "metadata": {
        "id": "caXTYq9itE-O"
      },
      "execution_count": 15,
      "outputs": []
    },
    {
      "cell_type": "code",
      "source": [
        "cm = confusion_matrix(y_test, y_pred)\n",
        "\n",
        "# Use seaborn to plot confusion matrix\n",
        "plt.figure(figsize=(10,7))\n",
        "sns.heatmap(cm, annot=True, fmt='d')\n",
        "plt.xlabel('Predicted')\n",
        "plt.ylabel('Truth')\n",
        "plt.show()\n"
      ],
      "metadata": {
        "colab": {
          "base_uri": "https://localhost:8080/",
          "height": 623
        },
        "id": "JjZltzPbtNyE",
        "outputId": "db28a9cf-ed1f-43cb-d0ef-37a3fb8640ab"
      },
      "execution_count": 17,
      "outputs": [
        {
          "output_type": "display_data",
          "data": {
            "text/plain": [
              "<Figure size 1000x700 with 2 Axes>"
            ],
            "image/png": "[encoded data removed]"
          },
          "metadata": {}
        }
      ]
    },
    {
      "cell_type": "code",
      "source": [],
      "metadata": {
        "id": "DsXag_5rwjSH"
      },
      "execution_count": 17,
      "outputs": []
    },
    {
      "cell_type": "code",
      "source": [],
      "metadata": {
        "id": "hxWeoUdDwjZ6"
      },
      "execution_count": 17,
      "outputs": []
    },
    {
      "cell_type": "code",
      "source": [
        "print(classification_report(y_test, y_pred))\n",
        "print(\"Accuracy:\", accuracy_score(y_test, y_pred))"
      ],
      "metadata": {
        "colab": {
          "base_uri": "https://localhost:8080/"
        },
        "id": "8l5geP5qtO-4",
        "outputId": "2213154f-9a51-49d2-b874-3b32a502d4ca"
      },
      "execution_count": 18,
      "outputs": [
        {
          "output_type": "stream",
          "name": "stdout",
          "text": [
            "              precision    recall  f1-score   support\n",
            "\n",
            "     anomaly       0.99      1.00      0.99      3516\n",
            "      normal       1.00      0.99      0.99      4042\n",
            "\n",
            "    accuracy                           0.99      7558\n",
            "   macro avg       0.99      0.99      0.99      7558\n",
            "weighted avg       0.99      0.99      0.99      7558\n",
            "\n",
            "Accuracy: 0.9943106641968775\n"
          ]
        }
      ]
    },
    {
      "cell_type": "code",
      "source": [],
      "metadata": {
        "id": "-b1052RrwZJu"
      },
      "execution_count": 18,
      "outputs": []
    },
    {
      "cell_type": "code",
      "source": [
        "\n",
        "# Calculate the probabilities of your predictions\n",
        "y_pred_proba = mlp.predict_proba(X_test)[:,1]\n",
        "\n",
        "# Map 'anomaly' to 1 and 'normal' to 0\n",
        "y_test_binary = y_test.map({'anomaly': 1, 'normal': 0})\n",
        "\n",
        "# Calculate the ROC curve points\n",
        "fpr, tpr, thresholds = roc_curve(y_test_binary, y_pred_proba)\n",
        "\n",
        "# Calculate the AUC (Area Under the Curve)\n",
        "roc_auc = roc_auc_score(y_test_binary, y_pred_proba)\n",
        "print('AUC: ',roc_auc)\n"
      ],
      "metadata": {
        "colab": {
          "base_uri": "https://localhost:8080/"
        },
        "id": "X6GZj90gtj2d",
        "outputId": "f4022158-98bc-4700-ce74-1412a8d09c99"
      },
      "execution_count": 19,
      "outputs": [
        {
          "output_type": "stream",
          "name": "stdout",
          "text": [
            "AUC:  0.0006942884693651816\n"
          ]
        }
      ]
    },
    {
      "cell_type": "code",
      "source": [
        "# Plot the ROC curve\n",
        "plt.figure(figsize=(10,8))\n",
        "plt.title('Receiver Operating Characteristic')\n",
        "plt.plot(fpr, tpr, 'b', label = 'AUC = %0.2f' % roc_auc)\n",
        "plt.legend(loc = 'lower right')\n",
        "plt.plot([0, 1], [0, 1],'r--')\n",
        "plt.xlim([0, 1])\n",
        "plt.ylim([0, 1])\n",
        "plt.ylabel('True Positive Rate')\n",
        "plt.xlabel('False Positive Rate')\n",
        "plt.show()\n"
      ],
      "metadata": {
        "colab": {
          "base_uri": "https://localhost:8080/",
          "height": 718
        },
        "id": "rpR9tDJQuBLh",
        "outputId": "ff96da63-2c03-41c5-e7e3-3488e53de240"
      },
      "execution_count": 20,
      "outputs": [
        {
          "output_type": "display_data",
          "data": {
            "text/plain": [
              "<Figure size 1000x800 with 1 Axes>"
            ],
            "image/png": "[encoded data removed]"
          },
          "metadata": {}
        }
      ]
    },
    {
      "cell_type": "code",
      "source": [],
      "metadata": {
        "id": "JFJGfk68uxqt"
      },
      "execution_count": null,
      "outputs": []
    },
    {
      "cell_type": "markdown",
      "source": [
        "# Error analysis"
      ],
      "metadata": {
        "id": "RmdKi6m3wgpz"
      }
    },
    {
      "cell_type": "code",
      "source": [
        "# Reset the index of y_test\n",
        "y_test = y_test.reset_index(drop=True)\n",
        "\n",
        "# Create a DataFrame to compare actual and predicted values\n",
        "results = pd.DataFrame({'Actual': y_test, 'Predicted': y_pred})\n",
        "\n",
        "# Create masks for false positives and false negatives\n",
        "fp_mask = (results['Actual'] == 'normal') & (results['Predicted'] == 'anomaly')\n",
        "fn_mask = (results['Actual'] == 'anomaly') & (results['Predicted'] == 'normal')\n",
        "\n",
        "# Convert X_test back into a DataFrame\n",
        "X_test_df = pd.DataFrame(X_test, columns=X.columns)\n",
        "\n",
        "# Analyze false positives\n",
        "print(X_test_df[fp_mask].describe())\n",
        "\n",
        "# Analyze false negatives\n",
        "print(X_test_df[fn_mask].describe())"
      ],
      "metadata": {
        "colab": {
          "base_uri": "https://localhost:8080/"
        },
        "id": "tF-WLABQwjJ8",
        "outputId": "9fe18e5c-9db8-4b4a-a7c5-9e3de6826125"
      },
      "execution_count": 23,
      "outputs": [
        {
          "output_type": "stream",
          "name": "stdout",
          "text": [
            "        duration  src_bytes  dst_bytes      land  wrong_fragment     urgent  \\\n",
            "count  34.000000  34.000000  34.000000  34.00000    3.400000e+01  34.000000   \n",
            "mean    0.071531   0.036567   0.136200  -0.01065   -9.203543e-02  -0.007531   \n",
            "std     1.090502   0.181486   0.720140   0.00000    1.408649e-17   0.000000   \n",
            "min    -0.116532  -0.010490  -0.040988  -0.01065   -9.203543e-02  -0.007531   \n",
            "25%    -0.116532  -0.010468  -0.040988  -0.01065   -9.203543e-02  -0.007531   \n",
            "50%    -0.116532  -0.010422  -0.040988  -0.01065   -9.203543e-02  -0.007531   \n",
            "75%    -0.116177  -0.009975  -0.038259  -0.01065   -9.203543e-02  -0.007531   \n",
            "max     6.243154   0.751884   3.846391  -0.01065   -9.203543e-02  -0.007531   \n",
            "\n",
            "             hot  num_failed_logins  logged_in  num_compromised  ...  \\\n",
            "count  34.000000       3.400000e+01  34.000000        34.000000  ...   \n",
            "mean    2.217965      -2.659279e-02   0.280916        -0.006212  ...   \n",
            "std     7.101858       3.521622e-18   1.037660         0.095669  ...   \n",
            "min    -0.094087      -2.659279e-02  -0.803382        -0.022619  ...   \n",
            "25%    -0.094087      -2.659279e-02  -0.803382        -0.022619  ...   \n",
            "50%    -0.094087      -2.659279e-02   1.244737        -0.022619  ...   \n",
            "75%    -0.094087      -2.659279e-02   1.244737        -0.022619  ...   \n",
            "max    35.511511      -2.659279e-02   1.244737         0.535223  ...   \n",
            "\n",
            "        flag_REJ  flag_RSTO  flag_RSTOS0     flag_RSTR    flag_S0    flag_S1  \\\n",
            "count  34.000000  34.000000    34.000000  3.400000e+01  34.000000  34.000000   \n",
            "mean   -0.310653  -0.112657    -0.029178 -1.439527e-01  -0.552091   0.451389   \n",
            "std     0.000000   0.000000     0.000000  2.817298e-17   0.383529   2.969872   \n",
            "min    -0.310653  -0.112657    -0.029178 -1.439527e-01  -0.617866  -0.057940   \n",
            "25%    -0.310653  -0.112657    -0.029178 -1.439527e-01  -0.617866  -0.057940   \n",
            "50%    -0.310653  -0.112657    -0.029178 -1.439527e-01  -0.617866  -0.057940   \n",
            "75%    -0.310653  -0.112657    -0.029178 -1.439527e-01  -0.617866  -0.057940   \n",
            "max    -0.310653  -0.112657    -0.029178 -1.439527e-01   1.618474  17.259240   \n",
            "\n",
            "         flag_S2    flag_S3    flag_SF       flag_SH  \n",
            "count  34.000000  34.000000  34.000000  3.400000e+01  \n",
            "mean    7.388786  -0.022597   0.344656 -4.196503e-02  \n",
            "std    16.253871   0.000000   0.877292  7.043244e-18  \n",
            "min    -0.023820  -0.022597  -1.213474 -4.196503e-02  \n",
            "25%    -0.023820  -0.022597   0.824081 -4.196503e-02  \n",
            "50%    -0.023820  -0.022597   0.824081 -4.196503e-02  \n",
            "75%    -0.023820  -0.022597   0.824081 -4.196503e-02  \n",
            "max    41.980948  -0.022597   0.824081 -4.196503e-02  \n",
            "\n",
            "[8 rows x 118 columns]\n",
            "       duration  src_bytes  dst_bytes     land  wrong_fragment        urgent  \\\n",
            "count  9.000000   9.000000   9.000000  9.00000        9.000000  9.000000e+00   \n",
            "mean  -0.104731  -0.008335  -0.025867 -0.01065       -0.092035 -7.530727e-03   \n",
            "std    0.035405   0.006298   0.038838  0.00000        0.000000  9.199761e-19   \n",
            "min   -0.116532  -0.010490  -0.040988 -0.01065       -0.092035 -7.530727e-03   \n",
            "25%   -0.116532  -0.010488  -0.040988 -0.01065       -0.092035 -7.530727e-03   \n",
            "50%   -0.116532  -0.010483  -0.040988 -0.01065       -0.092035 -7.530727e-03   \n",
            "75%   -0.116532  -0.010451  -0.036838 -0.01065       -0.092035 -7.530727e-03   \n",
            "max   -0.010318   0.008456   0.077163 -0.01065       -0.092035 -7.530727e-03   \n",
            "\n",
            "            hot  num_failed_logins  logged_in  num_compromised  ...  flag_REJ  \\\n",
            "count  9.000000           9.000000   9.000000         9.000000  ...  9.000000   \n",
            "mean  -0.042708          11.552105  -0.348245        -0.022619  ...  0.081533   \n",
            "std    0.154137          34.736095   0.903136         0.000000  ...  1.176559   \n",
            "min   -0.094087          -0.026593  -0.803382        -0.022619  ... -0.310653   \n",
            "25%   -0.094087          -0.026593  -0.803382        -0.022619  ... -0.310653   \n",
            "50%   -0.094087          -0.026593  -0.803382        -0.022619  ... -0.310653   \n",
            "75%   -0.094087          -0.026593  -0.803382        -0.022619  ... -0.310653   \n",
            "max    0.368323         104.181691   1.244737        -0.022619  ...  3.219024   \n",
            "\n",
            "       flag_RSTO  flag_RSTOS0  flag_RSTR   flag_S0  flag_S1  flag_S2  \\\n",
            "count   9.000000     9.000000   9.000000  9.000000  9.00000  9.00000   \n",
            "mean   -0.112657    -0.029178  -0.143953 -0.617866 -0.05794 -0.02382   \n",
            "std     0.000000     0.000000   0.000000  0.000000  0.00000  0.00000   \n",
            "min    -0.112657    -0.029178  -0.143953 -0.617866 -0.05794 -0.02382   \n",
            "25%    -0.112657    -0.029178  -0.143953 -0.617866 -0.05794 -0.02382   \n",
            "50%    -0.112657    -0.029178  -0.143953 -0.617866 -0.05794 -0.02382   \n",
            "75%    -0.112657    -0.029178  -0.143953 -0.617866 -0.05794 -0.02382   \n",
            "max    -0.112657    -0.029178  -0.143953 -0.617866 -0.05794 -0.02382   \n",
            "\n",
            "        flag_S3   flag_SF   flag_SH  \n",
            "count  9.000000  9.000000  9.000000  \n",
            "mean  -0.022597  0.597686 -0.041965  \n",
            "std    0.000000  0.679185  0.000000  \n",
            "min   -0.022597 -1.213474 -0.041965  \n",
            "25%   -0.022597  0.824081 -0.041965  \n",
            "50%   -0.022597  0.824081 -0.041965  \n",
            "75%   -0.022597  0.824081 -0.041965  \n",
            "max   -0.022597  0.824081 -0.041965  \n",
            "\n",
            "[8 rows x 118 columns]\n"
          ]
        }
      ]
    },
    {
      "cell_type": "markdown",
      "source": [
        "## Anomaly analysis"
      ],
      "metadata": {
        "id": "PFYxA_e1wAg7"
      }
    },
    {
      "cell_type": "code",
      "source": [
        "# Convert X_test back into a DataFrame\n",
        "X_test_df = pd.DataFrame(X_test, columns=X.columns)\n",
        "\n",
        "# Print the description of anomalies\n",
        "print(X_test_df[anomaly_mask].describe())\n",
        "\n"
      ],
      "metadata": {
        "colab": {
          "base_uri": "https://localhost:8080/"
        },
        "id": "KRO9IvPPv7OV",
        "outputId": "69a9450f-e344-48ce-9d2d-e413bfca432a"
      },
      "execution_count": 26,
      "outputs": [
        {
          "output_type": "stream",
          "name": "stdout",
          "text": [
            "          duration    src_bytes    dst_bytes          land  wrong_fragment  \\\n",
            "count  3516.000000  3516.000000  3516.000000  3.516000e+03     3516.000000   \n",
            "mean      0.013450    -0.007597     0.023872 -1.065036e-02        0.092817   \n",
            "std       1.147453     0.067252     2.137443  1.734970e-18        1.405546   \n",
            "min      -0.116532    -0.010490    -0.040988 -1.065036e-02       -0.092035   \n",
            "25%      -0.116532    -0.010490    -0.040988 -1.065036e-02       -0.092035   \n",
            "50%      -0.116532    -0.010490    -0.040988 -1.065036e-02       -0.092035   \n",
            "75%      -0.116532    -0.010490    -0.040988 -1.065036e-02       -0.092035   \n",
            "max      15.029062     1.773558    73.165919 -1.065036e-02       11.310443   \n",
            "\n",
            "             urgent          hot  num_failed_logins    logged_in  \\\n",
            "count  3.516000e+03  3516.000000        3516.000000  3516.000000   \n",
            "mean  -7.530727e-03    -0.041217           0.025274    -0.739306   \n",
            "std    1.734970e-18     0.668576           1.914684     0.356605   \n",
            "min   -7.530727e-03    -0.094087          -0.026593    -0.803382   \n",
            "25%   -7.530727e-03    -0.094087          -0.026593    -0.803382   \n",
            "50%   -7.530727e-03    -0.094087          -0.026593    -0.803382   \n",
            "75%   -7.530727e-03    -0.094087          -0.026593    -0.803382   \n",
            "max   -7.530727e-03    12.853403         104.181691     1.244737   \n",
            "\n",
            "       num_compromised  ...     flag_REJ    flag_RSTO  flag_RSTOS0  \\\n",
            "count      3516.000000  ...  3516.000000  3516.000000  3516.000000   \n",
            "mean         -0.021006  ...     0.210366     0.071421     0.029357   \n",
            "std           0.013485  ...     1.252203     1.273294     1.415979   \n",
            "min          -0.022619  ...    -0.310653    -0.112657    -0.029178   \n",
            "25%          -0.022619  ...    -0.310653    -0.112657    -0.029178   \n",
            "50%          -0.022619  ...    -0.310653    -0.112657    -0.029178   \n",
            "75%          -0.022619  ...    -0.310653    -0.112657    -0.029178   \n",
            "max           0.349276  ...     3.219024     8.876478    34.272438   \n",
            "\n",
            "         flag_RSTR      flag_S0       flag_S1      flag_S2       flag_S3  \\\n",
            "count  3516.000000  3516.000000  3.516000e+03  3516.000000  3.516000e+03   \n",
            "mean      0.132334     0.730553 -5.793998e-02     0.000073 -2.259731e-02   \n",
            "std       1.372319     1.094363  1.387976e-17     1.001676  6.939881e-18   \n",
            "min      -0.143953    -0.617866 -5.793998e-02    -0.023820 -2.259731e-02   \n",
            "25%      -0.143953    -0.617866 -5.793998e-02    -0.023820 -2.259731e-02   \n",
            "50%      -0.143953     1.618474 -5.793998e-02    -0.023820 -2.259731e-02   \n",
            "75%      -0.143953     1.618474 -5.793998e-02    -0.023820 -2.259731e-02   \n",
            "max       6.946725     1.618474 -5.793998e-02    41.980948 -2.259731e-02   \n",
            "\n",
            "           flag_SF      flag_SH  \n",
            "count  3516.000000  3516.000000  \n",
            "mean     -0.837952     0.039507  \n",
            "std       0.790131     1.392394  \n",
            "min      -1.213474    -0.041965  \n",
            "25%      -1.213474    -0.041965  \n",
            "50%      -1.213474    -0.041965  \n",
            "75%      -1.213474    -0.041965  \n",
            "max       0.824081    23.829367  \n",
            "\n",
            "[8 rows x 118 columns]\n"
          ]
        }
      ]
    },
    {
      "cell_type": "markdown",
      "source": [
        "# Normal behaviour analysis"
      ],
      "metadata": {
        "id": "PlbJO8xYwEsD"
      }
    },
    {
      "cell_type": "code",
      "source": [
        "\n",
        "# Create a boolean mask for normal behavior\n",
        "normal_mask = (y_test == 'normal')\n",
        "\n",
        "# Print the description of normal instances\n",
        "print(X_test_df[normal_mask].describe())\n"
      ],
      "metadata": {
        "colab": {
          "base_uri": "https://localhost:8080/"
        },
        "id": "HEM06k2mv-83",
        "outputId": "bb5c0879-1c58-4351-da4a-e59489e32f7b"
      },
      "execution_count": 28,
      "outputs": [
        {
          "output_type": "stream",
          "name": "stdout",
          "text": [
            "          duration    src_bytes    dst_bytes        land  wrong_fragment  \\\n",
            "count  4042.000000  4042.000000  4042.000000  4042.00000    4.042000e+03   \n",
            "mean     -0.062607    -0.006093     0.033054    -0.01065   -9.203543e-02   \n",
            "std       0.406131     0.066449     1.263117     0.00000    4.163851e-17   \n",
            "min      -0.116532    -0.010490    -0.040988    -0.01065   -9.203543e-02   \n",
            "25%      -0.116532    -0.010440    -0.039496    -0.01065   -9.203543e-02   \n",
            "50%      -0.116532    -0.010408    -0.035360    -0.01065   -9.203543e-02   \n",
            "75%      -0.116532    -0.010377    -0.010505    -0.01065   -9.203543e-02   \n",
            "max       6.243154     2.507535    72.861503    -0.01065   -9.203543e-02   \n",
            "\n",
            "             urgent          hot  num_failed_logins    logged_in  \\\n",
            "count  4.042000e+03  4042.000000        4042.000000  4042.000000   \n",
            "mean  -7.530727e-03     0.020200           0.005634     0.675196   \n",
            "std    1.734938e-18     1.196331           1.083814     0.917780   \n",
            "min   -7.530727e-03    -0.094087          -0.026593    -0.803382   \n",
            "25%   -7.530727e-03    -0.094087          -0.026593    -0.803382   \n",
            "50%   -7.530727e-03    -0.094087          -0.026593     1.244737   \n",
            "75%   -7.530727e-03    -0.094087          -0.026593     1.244737   \n",
            "max   -7.530727e-03    35.511511          52.077549     1.244737   \n",
            "\n",
            "       num_compromised  ...     flag_REJ    flag_RSTO  flag_RSTOS0  \\\n",
            "count      4042.000000  ...  4042.000000  4042.000000  4042.000000   \n",
            "mean          0.009331  ...    -0.184032    -0.088194    -0.029178   \n",
            "std           1.217941  ...     0.656510     0.468358     0.000000   \n",
            "min          -0.022619  ...    -0.310653    -0.112657    -0.029178   \n",
            "25%          -0.022619  ...    -0.310653    -0.112657    -0.029178   \n",
            "50%          -0.022619  ...    -0.310653    -0.112657    -0.029178   \n",
            "75%          -0.022619  ...    -0.310653    -0.112657    -0.029178   \n",
            "max          73.333518  ...     3.219024     8.876478    -0.029178   \n",
            "\n",
            "         flag_RSTR      flag_S0      flag_S1      flag_S2      flag_S3  \\\n",
            "count  4042.000000  4042.000000  4042.000000  4042.000000  4042.000000   \n",
            "mean     -0.140444    -0.608460     0.066305     0.069708     0.043126   \n",
            "std       0.157707     0.144745     1.461733     1.980119     1.704801   \n",
            "min      -0.143953    -0.617866    -0.057940    -0.023820    -0.022597   \n",
            "25%      -0.143953    -0.617866    -0.057940    -0.023820    -0.022597   \n",
            "50%      -0.143953    -0.617866    -0.057940    -0.023820    -0.022597   \n",
            "75%      -0.143953    -0.617866    -0.057940    -0.023820    -0.022597   \n",
            "max       6.946725     1.618474    17.259240    41.980948    44.253060   \n",
            "\n",
            "           flag_SF      flag_SH  \n",
            "count  4042.000000  4042.000000  \n",
            "mean      0.713684    -0.041965  \n",
            "std       0.461308     0.000000  \n",
            "min      -1.213474    -0.041965  \n",
            "25%       0.824081    -0.041965  \n",
            "50%       0.824081    -0.041965  \n",
            "75%       0.824081    -0.041965  \n",
            "max       0.824081    -0.041965  \n",
            "\n",
            "[8 rows x 118 columns]\n"
          ]
        }
      ]
    },
    {
      "cell_type": "code",
      "source": [],
      "metadata": {
        "id": "fx-T6msVw3SS"
      },
      "execution_count": null,
      "outputs": []
    }
  ]
}